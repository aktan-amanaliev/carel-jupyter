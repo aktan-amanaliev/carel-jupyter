{
 "cells": [
  {
   "cell_type": "code",
   "execution_count": 6,
   "metadata": {},
   "outputs": [],
   "source": [
    "from carel import Carel\n",
    "from carelgrid import CarelGrid\n",
    "from gamecanvas import GameCanvas"
   ]
  },
  {
   "cell_type": "code",
   "execution_count": 7,
   "metadata": {},
   "outputs": [],
   "source": [
    "class CarelReturn(Carel):\n",
    "    \n",
    "    def __init__(self, canvas, grid):\n",
    "    #    self.counter = 0\n",
    "        self.position = 3\n",
    "        super().__init__(canvas, grid)\n",
    "    \n",
    "    #def initiate_position(self):\n",
    "     #   self.position = 3\n",
    "        \n",
    "    def turn_left(self):\n",
    "        super().turn_left()\n",
    "        self.position = self.position + 1\n",
    "        if self.position == 4:\n",
    "            self.position = 0\n",
    "    \n",
    "    def turn_around(self):\n",
    "        self.turn_left()\n",
    "        self.turn_left()\n",
    "    \n",
    "    def turn_right(self):\n",
    "        self.turn_left()\n",
    "        self.turn_left()\n",
    "        self.turn_left()\n",
    "\n",
    "    def move_to_wall(self):\n",
    "        while is_front_clear():\n",
    "            self.move()\n",
    "\n",
    "    def turn_up(self):    \n",
    "        if self.position == 0:\n",
    "            pass\n",
    "        elif self.position == 1:\n",
    "            self.turn_right()\n",
    "        elif self.position == 2:\n",
    "            self.turn_around()\n",
    "        elif self.position == 3:\n",
    "            self.turn_left()\n",
    "\n",
    "    def return_back(self):\n",
    "        self.turn_up()\n",
    "        self.move_to_wall()\n",
    "        self.turn_left()\n",
    "        self.move_to_wall()\n",
    "        self.turn_around()\n",
    "    "
   ]
  },
  {
   "cell_type": "code",
   "execution_count": 8,
   "metadata": {},
   "outputs": [
    {
     "name": "stdout",
     "output_type": "stream",
     "text": [
      "',(0):>   1      0      0      0      0   \n",
      "   2      0      0      0      0      0   \n",
      "   0      0      0      0      0      0   \n",
      "   0      0      1      0      0      0   \n"
     ]
    }
   ],
   "source": [
    "\n",
    "field = [[0 for x in range(6)] for y in range(4)]\n",
    "\n",
    "field[0][1] = 1\n",
    "field[1][0] = 2\n",
    "field[3][2] = 1\n",
    "\n",
    "grid = CarelGrid(field)\n",
    "canvas = GameCanvas(speed=3);\n",
    "carel = CarelReturn(canvas, grid);\n",
    "\n",
    "#carel.initiate_position()\n",
    "\n",
    "def move():\n",
    "    carel.move()\n",
    "def turn_left():\n",
    "    carel.turn_left()\n",
    "def drop_beeper():\n",
    "    carel.drop_beeper()\n",
    "def collect_beeper():\n",
    "    carel.collect_beeper()\n",
    "def is_beeper():\n",
    "    return carel.is_beeper()\n",
    "def is_front_clear():\n",
    "    return carel.is_front_clear()\n",
    "def show():\n",
    "    carel.show()"
   ]
  },
  {
   "cell_type": "code",
   "execution_count": 9,
   "metadata": {},
   "outputs": [],
   "source": [
    "# New methods go here\n",
    "\n",
    "# Example\n",
    "\n",
    "def turn_around():\n",
    "    turn_left()\n",
    "    turn_left()\n",
    "    \n",
    "def turn_right():\n",
    "    turn_left()\n",
    "    turn_left()\n",
    "    turn_left()\n",
    "    \n",
    "def move_to_wall():\n",
    "    while is_front_clear():\n",
    "        move()\n"
   ]
  },
  {
   "cell_type": "code",
   "execution_count": 11,
   "metadata": {},
   "outputs": [
    {
     "name": "stdout",
     "output_type": "stream",
     "text": [
      "',(0):>   1      0      0      0      0   \n",
      "   2      0      0      0      0      0   \n",
      "   0      0      0      0      0      0   \n",
      "   0      0      1      0      0      0   \n"
     ]
    }
   ],
   "source": [
    "carel.return_back()"
   ]
  },
  {
   "cell_type": "code",
   "execution_count": null,
   "metadata": {},
   "outputs": [],
   "source": []
  }
 ],
 "metadata": {
  "kernelspec": {
   "display_name": "Python 3",
   "language": "python",
   "name": "python3"
  },
  "language_info": {
   "codemirror_mode": {
    "name": "ipython",
    "version": 3
   },
   "file_extension": ".py",
   "mimetype": "text/x-python",
   "name": "python",
   "nbconvert_exporter": "python",
   "pygments_lexer": "ipython3",
   "version": "3.7.0"
  }
 },
 "nbformat": 4,
 "nbformat_minor": 2
}
